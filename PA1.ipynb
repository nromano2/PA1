{
 "cells": [
  {
   "cell_type": "markdown",
   "id": "cf596e23-24ea-4b14-883b-df22ab79d025",
   "metadata": {},
   "source": [
    "### Programming Assignment 1\n",
    "#### Nick Romano\n",
    "#### Version 1.0\n",
    "#### FALL 2021 CS 150-02: Computer Programming for Liberal Arts"
   ]
  },
  {
   "cell_type": "code",
   "execution_count": 1,
   "id": "89a04afc-fb35-4760-91b5-a8bca61bc096",
   "metadata": {},
   "outputs": [
    {
     "name": "stdin",
     "output_type": "stream",
     "text": [
      "Enter a floating point number:  45.5\n",
      "Enter an integer:  5\n"
     ]
    },
    {
     "name": "stdout",
     "output_type": "stream",
     "text": [
      "The sum is:  50.5\n",
      "The difference is:  40.5\n",
      "The product is:  227.5\n",
      "The quotient is:  9.1\n",
      "The type of result is  <class 'float'>\n"
     ]
    }
   ],
   "source": [
    "number1= float(input(\"Enter a floating point number: \"))\n",
    "number2 = int(input(\"Enter an integer: \"))\n",
    "\n",
    "addition= number1 + number2\n",
    "subtraction= number1 - number2\n",
    "multiplication= number1 * number2\n",
    "division= number1 / number2\n",
    "\n",
    "addition_type= type(addition)\n",
    "\n",
    "print(\"The sum is: \", addition)\n",
    "print(\"The difference is: \", subtraction)\n",
    "print(\"The product is: \", multiplication)\n",
    "print(\"The quotient is: \", division)\n",
    "print(\"The type of result is \", addition_type)"
   ]
  }
 ],
 "metadata": {
  "kernelspec": {
   "display_name": "Python 3",
   "language": "python",
   "name": "python3"
  },
  "language_info": {
   "codemirror_mode": {
    "name": "ipython",
    "version": 3
   },
   "file_extension": ".py",
   "mimetype": "text/x-python",
   "name": "python",
   "nbconvert_exporter": "python",
   "pygments_lexer": "ipython3",
   "version": "3.8.8"
  }
 },
 "nbformat": 4,
 "nbformat_minor": 5
}
